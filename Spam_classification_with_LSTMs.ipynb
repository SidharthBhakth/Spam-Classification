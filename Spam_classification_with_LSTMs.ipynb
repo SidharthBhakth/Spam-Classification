{
  "nbformat": 4,
  "nbformat_minor": 0,
  "metadata": {
    "colab": {
      "name": "Spam classification with LSTMs.ipynb",
      "provenance": [],
      "collapsed_sections": [],
      "authorship_tag": "ABX9TyMg8qDtQlD6r/zNaRhQVPy6",
      "include_colab_link": true
    },
    "kernelspec": {
      "name": "python3",
      "display_name": "Python 3"
    },
    "accelerator": "GPU"
  },
  "cells": [
    {
      "cell_type": "markdown",
      "metadata": {
        "id": "view-in-github",
        "colab_type": "text"
      },
      "source": [
        "<a href=\"https://colab.research.google.com/github/SidharthBhakth/Spam-Classification/blob/master/Spam_classification_with_LSTMs.ipynb\" target=\"_parent\"><img src=\"https://colab.research.google.com/assets/colab-badge.svg\" alt=\"Open In Colab\"/></a>"
      ]
    },
    {
      "cell_type": "markdown",
      "metadata": {
        "id": "DARwQsQMvHU3",
        "colab_type": "text"
      },
      "source": [
        "# Spam classification with LSTMs"
      ]
    },
    {
      "cell_type": "code",
      "metadata": {
        "id": "j6FMQgk7cAWV",
        "colab_type": "code",
        "colab": {}
      },
      "source": [
        "import numpy as np\n",
        "\n",
        "import pandas as pd\n",
        "\n",
        "import matplotlib.pyplot as plt\n",
        "import seaborn as sns\n",
        "\n",
        "from sklearn.model_selection import train_test_split\n",
        "from sklearn.metrics import confusion_matrix\n",
        "\n",
        "from tensorflow.keras.preprocessing.text import Tokenizer\n",
        "from tensorflow.keras.preprocessing.sequence import pad_sequences\n",
        "from tensorflow.keras.layers import Input, Dense, LSTM, Embedding, GlobalMaxPooling1D\n",
        "from tensorflow.keras.models import Model"
      ],
      "execution_count": 0,
      "outputs": []
    },
    {
      "cell_type": "code",
      "metadata": {
        "id": "7XMBRu1r1NtF",
        "colab_type": "code",
        "colab": {
          "base_uri": "https://localhost:8080/",
          "height": 202
        },
        "outputId": "3283e9db-570d-4692-f0ed-9687973c28d4"
      },
      "source": [
        "# Get data from github\n",
        "!wget -nc https://raw.githubusercontent.com/SidharthBhakth/Spam-Classification/master/spam.csv"
      ],
      "execution_count": 2,
      "outputs": [
        {
          "output_type": "stream",
          "text": [
            "--2020-05-21 03:51:28--  https://raw.githubusercontent.com/SidharthBhakth/Spam-Classification/master/spam.csv\n",
            "Resolving raw.githubusercontent.com (raw.githubusercontent.com)... 151.101.0.133, 151.101.64.133, 151.101.128.133, ...\n",
            "Connecting to raw.githubusercontent.com (raw.githubusercontent.com)|151.101.0.133|:443... connected.\n",
            "HTTP request sent, awaiting response... 200 OK\n",
            "Length: 503663 (492K) [text/plain]\n",
            "Saving to: ‘spam.csv’\n",
            "\n",
            "\rspam.csv              0%[                    ]       0  --.-KB/s               \rspam.csv            100%[===================>] 491.86K  --.-KB/s    in 0.04s   \n",
            "\n",
            "2020-05-21 03:51:28 (13.5 MB/s) - ‘spam.csv’ saved [503663/503663]\n",
            "\n"
          ],
          "name": "stdout"
        }
      ]
    },
    {
      "cell_type": "code",
      "metadata": {
        "id": "NmmA0XUZS5lr",
        "colab_type": "code",
        "colab": {
          "base_uri": "https://localhost:8080/",
          "height": 195
        },
        "outputId": "1d50920e-1ea2-4d94-970e-b2d4a7a15e36"
      },
      "source": [
        "# Load data as pandas dataframe\n",
        "df = pd.read_csv('spam.csv', encoding = \"CP437\")\n",
        "\n",
        "df.head()"
      ],
      "execution_count": 3,
      "outputs": [
        {
          "output_type": "execute_result",
          "data": {
            "text/html": [
              "<div>\n",
              "<style scoped>\n",
              "    .dataframe tbody tr th:only-of-type {\n",
              "        vertical-align: middle;\n",
              "    }\n",
              "\n",
              "    .dataframe tbody tr th {\n",
              "        vertical-align: top;\n",
              "    }\n",
              "\n",
              "    .dataframe thead th {\n",
              "        text-align: right;\n",
              "    }\n",
              "</style>\n",
              "<table border=\"1\" class=\"dataframe\">\n",
              "  <thead>\n",
              "    <tr style=\"text-align: right;\">\n",
              "      <th></th>\n",
              "      <th>v1</th>\n",
              "      <th>v2</th>\n",
              "      <th>Unnamed: 2</th>\n",
              "      <th>Unnamed: 3</th>\n",
              "      <th>Unnamed: 4</th>\n",
              "    </tr>\n",
              "  </thead>\n",
              "  <tbody>\n",
              "    <tr>\n",
              "      <th>0</th>\n",
              "      <td>ham</td>\n",
              "      <td>Go until jurong point, crazy.. Available only ...</td>\n",
              "      <td>NaN</td>\n",
              "      <td>NaN</td>\n",
              "      <td>NaN</td>\n",
              "    </tr>\n",
              "    <tr>\n",
              "      <th>1</th>\n",
              "      <td>ham</td>\n",
              "      <td>Ok lar... Joking wif u oni...</td>\n",
              "      <td>NaN</td>\n",
              "      <td>NaN</td>\n",
              "      <td>NaN</td>\n",
              "    </tr>\n",
              "    <tr>\n",
              "      <th>2</th>\n",
              "      <td>spam</td>\n",
              "      <td>Free entry in 2 a wkly comp to win FA Cup fina...</td>\n",
              "      <td>NaN</td>\n",
              "      <td>NaN</td>\n",
              "      <td>NaN</td>\n",
              "    </tr>\n",
              "    <tr>\n",
              "      <th>3</th>\n",
              "      <td>ham</td>\n",
              "      <td>U dun say so early hor... U c already then say...</td>\n",
              "      <td>NaN</td>\n",
              "      <td>NaN</td>\n",
              "      <td>NaN</td>\n",
              "    </tr>\n",
              "    <tr>\n",
              "      <th>4</th>\n",
              "      <td>ham</td>\n",
              "      <td>Nah I don't think he goes to usf, he lives aro...</td>\n",
              "      <td>NaN</td>\n",
              "      <td>NaN</td>\n",
              "      <td>NaN</td>\n",
              "    </tr>\n",
              "  </tbody>\n",
              "</table>\n",
              "</div>"
            ],
            "text/plain": [
              "     v1  ... Unnamed: 4\n",
              "0   ham  ...        NaN\n",
              "1   ham  ...        NaN\n",
              "2  spam  ...        NaN\n",
              "3   ham  ...        NaN\n",
              "4   ham  ...        NaN\n",
              "\n",
              "[5 rows x 5 columns]"
            ]
          },
          "metadata": {
            "tags": []
          },
          "execution_count": 3
        }
      ]
    },
    {
      "cell_type": "code",
      "metadata": {
        "id": "-GMKHOzT3daM",
        "colab_type": "code",
        "colab": {}
      },
      "source": [
        "# Drop unnecessary columns\n",
        "df = df.drop(['Unnamed: 2', 'Unnamed: 3', 'Unnamed: 4'], axis=1)"
      ],
      "execution_count": 0,
      "outputs": []
    },
    {
      "cell_type": "code",
      "metadata": {
        "id": "scCMLPYJ3pei",
        "colab_type": "code",
        "colab": {
          "base_uri": "https://localhost:8080/",
          "height": 195
        },
        "outputId": "a2c9a3ae-cd82-41a4-fef1-f7402c336a46"
      },
      "source": [
        "# Rename columns\n",
        "df.columns = ['labels', 'data']\n",
        "\n",
        "df.head()"
      ],
      "execution_count": 5,
      "outputs": [
        {
          "output_type": "execute_result",
          "data": {
            "text/html": [
              "<div>\n",
              "<style scoped>\n",
              "    .dataframe tbody tr th:only-of-type {\n",
              "        vertical-align: middle;\n",
              "    }\n",
              "\n",
              "    .dataframe tbody tr th {\n",
              "        vertical-align: top;\n",
              "    }\n",
              "\n",
              "    .dataframe thead th {\n",
              "        text-align: right;\n",
              "    }\n",
              "</style>\n",
              "<table border=\"1\" class=\"dataframe\">\n",
              "  <thead>\n",
              "    <tr style=\"text-align: right;\">\n",
              "      <th></th>\n",
              "      <th>labels</th>\n",
              "      <th>data</th>\n",
              "    </tr>\n",
              "  </thead>\n",
              "  <tbody>\n",
              "    <tr>\n",
              "      <th>0</th>\n",
              "      <td>ham</td>\n",
              "      <td>Go until jurong point, crazy.. Available only ...</td>\n",
              "    </tr>\n",
              "    <tr>\n",
              "      <th>1</th>\n",
              "      <td>ham</td>\n",
              "      <td>Ok lar... Joking wif u oni...</td>\n",
              "    </tr>\n",
              "    <tr>\n",
              "      <th>2</th>\n",
              "      <td>spam</td>\n",
              "      <td>Free entry in 2 a wkly comp to win FA Cup fina...</td>\n",
              "    </tr>\n",
              "    <tr>\n",
              "      <th>3</th>\n",
              "      <td>ham</td>\n",
              "      <td>U dun say so early hor... U c already then say...</td>\n",
              "    </tr>\n",
              "    <tr>\n",
              "      <th>4</th>\n",
              "      <td>ham</td>\n",
              "      <td>Nah I don't think he goes to usf, he lives aro...</td>\n",
              "    </tr>\n",
              "  </tbody>\n",
              "</table>\n",
              "</div>"
            ],
            "text/plain": [
              "  labels                                               data\n",
              "0    ham  Go until jurong point, crazy.. Available only ...\n",
              "1    ham                      Ok lar... Joking wif u oni...\n",
              "2   spam  Free entry in 2 a wkly comp to win FA Cup fina...\n",
              "3    ham  U dun say so early hor... U c already then say...\n",
              "4    ham  Nah I don't think he goes to usf, he lives aro..."
            ]
          },
          "metadata": {
            "tags": []
          },
          "execution_count": 5
        }
      ]
    },
    {
      "cell_type": "code",
      "metadata": {
        "id": "CZbXCzOo4QZ-",
        "colab_type": "code",
        "colab": {}
      },
      "source": [
        "# Create binary labels\n",
        "df['b_labels'] = df['labels'].map({'ham':0, 'spam':1})\n",
        "\n",
        "y = df['b_labels'].values"
      ],
      "execution_count": 0,
      "outputs": []
    },
    {
      "cell_type": "code",
      "metadata": {
        "id": "uqDY4jnWTpEB",
        "colab_type": "code",
        "colab": {}
      },
      "source": [
        "class_names = ['ham', 'spam']"
      ],
      "execution_count": 0,
      "outputs": []
    },
    {
      "cell_type": "code",
      "metadata": {
        "id": "tQWF3yOx4hcA",
        "colab_type": "code",
        "colab": {}
      },
      "source": [
        "# Split the data to train and test datasets\n",
        "df_train, df_test, y_train, y_test = train_test_split(df['data'], y, test_size=0.3)"
      ],
      "execution_count": 0,
      "outputs": []
    },
    {
      "cell_type": "code",
      "metadata": {
        "id": "euwRk7wA4_Gb",
        "colab_type": "code",
        "colab": {}
      },
      "source": [
        "# Convert sentences to sequences\n",
        "MAX_VOCAB_SIZE = 20000\n",
        "\n",
        "tokenizer = Tokenizer(num_words=MAX_VOCAB_SIZE)\n",
        "tokenizer.fit_on_texts(df_train)\n",
        "\n",
        "sequences_train = tokenizer.texts_to_sequences(df_train)\n",
        "sequences_test = tokenizer.texts_to_sequences(df_test)"
      ],
      "execution_count": 0,
      "outputs": []
    },
    {
      "cell_type": "code",
      "metadata": {
        "id": "Q3raKBGl5_zl",
        "colab_type": "code",
        "colab": {
          "base_uri": "https://localhost:8080/",
          "height": 34
        },
        "outputId": "53f57b40-d87f-4116-fb86-4ffc09ffacdc"
      },
      "source": [
        "# Get word to index mapping\n",
        "word2idx = tokenizer.word_index\n",
        "\n",
        "# Size of vocabulary\n",
        "V = max(word2idx.values())\n",
        "\n",
        "print('Unique tokens: {}'.format(V))"
      ],
      "execution_count": 10,
      "outputs": [
        {
          "output_type": "stream",
          "text": [
            "Unique tokens: 7342\n"
          ],
          "name": "stdout"
        }
      ]
    },
    {
      "cell_type": "code",
      "metadata": {
        "id": "XwO7EZKt6f8y",
        "colab_type": "code",
        "colab": {
          "base_uri": "https://localhost:8080/",
          "height": 50
        },
        "outputId": "44c1ccee-2992-4b6b-d91d-0dec3c0467b9"
      },
      "source": [
        "# Pad sequences\n",
        "X_train = pad_sequences(sequences_train)\n",
        "print('Shape of train data tensor: {}'.format(X_train.shape)) # N x T array\n",
        "\n",
        "# Get sequence length\n",
        "T = X_train.shape[1]\n",
        "\n",
        "X_test = pad_sequences(sequences_test, maxlen=T)\n",
        "print('Shape of test data tensor: {}'.format(X_test.shape)) # N x T array"
      ],
      "execution_count": 11,
      "outputs": [
        {
          "output_type": "stream",
          "text": [
            "Shape of train data tensor: (3900, 162)\n",
            "Shape of test data tensor: (1672, 162)\n"
          ],
          "name": "stdout"
        }
      ]
    },
    {
      "cell_type": "code",
      "metadata": {
        "id": "KNtHHFz972Xe",
        "colab_type": "code",
        "colab": {
          "base_uri": "https://localhost:8080/",
          "height": 353
        },
        "outputId": "ca67d5f9-2f12-4c0c-9dec-25b1d10ac353"
      },
      "source": [
        "# Build the model\n",
        "\n",
        "# Embedding dimensionality\n",
        "D = 20\n",
        "\n",
        "\"\"\"\n",
        "The size of the embedding layer is (V+1) x D since the first index starts from 1 and not 0\n",
        "Thus, the final index of the embedding matrix is V, so we have the size V+1\n",
        "\"\"\"\n",
        "\n",
        "i = Input(shape=(T,))\n",
        "x = Embedding(V+1, D)(i)\n",
        "x = LSTM(units=15, return_sequences=True)(x)\n",
        "x = GlobalMaxPooling1D()(x)\n",
        "x = Dense(1, activation='sigmoid')(x)\n",
        "\n",
        "model = Model(i, x)\n",
        "\n",
        "#  Compile\n",
        "model.compile(loss='binary_crossentropy',\n",
        "              optimizer='adam',\n",
        "              metrics=['accuracy'])\n",
        "\n",
        "# Fit\n",
        "r = model.fit(X_train, y_train, validation_data=(X_test, y_test), epochs=10, verbose=2)"
      ],
      "execution_count": 12,
      "outputs": [
        {
          "output_type": "stream",
          "text": [
            "Epoch 1/10\n",
            "122/122 - 4s - loss: 0.4980 - accuracy: 0.8400 - val_loss: 0.3407 - val_accuracy: 0.8762\n",
            "Epoch 2/10\n",
            "122/122 - 4s - loss: 0.3110 - accuracy: 0.8615 - val_loss: 0.2433 - val_accuracy: 0.8762\n",
            "Epoch 3/10\n",
            "122/122 - 4s - loss: 0.1971 - accuracy: 0.9031 - val_loss: 0.1558 - val_accuracy: 0.9803\n",
            "Epoch 4/10\n",
            "122/122 - 4s - loss: 0.1231 - accuracy: 0.9908 - val_loss: 0.1127 - val_accuracy: 0.9856\n",
            "Epoch 5/10\n",
            "122/122 - 4s - loss: 0.0846 - accuracy: 0.9954 - val_loss: 0.0967 - val_accuracy: 0.9844\n",
            "Epoch 6/10\n",
            "122/122 - 3s - loss: 0.0637 - accuracy: 0.9967 - val_loss: 0.0804 - val_accuracy: 0.9880\n",
            "Epoch 7/10\n",
            "122/122 - 4s - loss: 0.0507 - accuracy: 0.9979 - val_loss: 0.0751 - val_accuracy: 0.9868\n",
            "Epoch 8/10\n",
            "122/122 - 4s - loss: 0.0423 - accuracy: 0.9982 - val_loss: 0.0692 - val_accuracy: 0.9868\n",
            "Epoch 9/10\n",
            "122/122 - 4s - loss: 0.0341 - accuracy: 0.9990 - val_loss: 0.0657 - val_accuracy: 0.9868\n",
            "Epoch 10/10\n",
            "122/122 - 4s - loss: 0.0288 - accuracy: 0.9992 - val_loss: 0.0586 - val_accuracy: 0.9862\n"
          ],
          "name": "stdout"
        }
      ]
    },
    {
      "cell_type": "code",
      "metadata": {
        "id": "Ih-yA4IG9yHy",
        "colab_type": "code",
        "colab": {
          "base_uri": "https://localhost:8080/",
          "height": 265
        },
        "outputId": "63c3d2d8-7dc5-4c9e-9c25-64e35730046a"
      },
      "source": [
        "# Plot loss per epoch\n",
        "plt.plot(r.history['loss'], label='loss')\n",
        "plt.plot(r.history['val_loss'], label='val_loss')\n",
        "plt.legend()\n",
        "plt.show()"
      ],
      "execution_count": 13,
      "outputs": [
        {
          "output_type": "display_data",
          "data": {
            "image/png": "[encoded data removed]",
            "text/plain": [
              "<Figure size 432x288 with 1 Axes>"
            ]
          },
          "metadata": {
            "tags": [],
            "needs_background": "light"
          }
        }
      ]
    },
    {
      "cell_type": "code",
      "metadata": {
        "id": "qxamSgOwAgNv",
        "colab_type": "code",
        "colab": {
          "base_uri": "https://localhost:8080/",
          "height": 265
        },
        "outputId": "f3cf75b3-1d21-4aad-dff3-d2b28b11c2fb"
      },
      "source": [
        "# Plot accuracy per epcch\n",
        "plt.plot(r.history['accuracy'], label='acc')\n",
        "plt.plot(r.history['val_accuracy'], label='val_acc')\n",
        "plt.legend()\n",
        "plt.show()"
      ],
      "execution_count": 14,
      "outputs": [
        {
          "output_type": "display_data",
          "data": {
            "image/png": "[encoded data removed]",
            "text/plain": [
              "<Figure size 432x288 with 1 Axes>"
            ]
          },
          "metadata": {
            "tags": [],
            "needs_background": "light"
          }
        }
      ]
    },
    {
      "cell_type": "code",
      "metadata": {
        "id": "oYAmn-U6TzYh",
        "colab_type": "code",
        "colab": {}
      },
      "source": [
        "# Predict\n",
        "y_pred = model.predict(X_test).flatten()\n",
        "y_pred = (y_pred > 0.5).astype(int)"
      ],
      "execution_count": 0,
      "outputs": []
    },
    {
      "cell_type": "code",
      "metadata": {
        "id": "VS5Tp-_CTz_e",
        "colab_type": "code",
        "colab": {
          "base_uri": "https://localhost:8080/",
          "height": 312
        },
        "outputId": "12952be8-5d14-4e8a-8fd2-4de773db0b49"
      },
      "source": [
        "# Plot annotated confusion matrix\n",
        "cnf_mat = confusion_matrix(y_test, y_pred)\n",
        "\n",
        "fig, ax = plt.subplots()\n",
        "\n",
        "fig = sns.heatmap(cnf_mat.T, square=True, annot=True, fmt='d', cmap='binary', cbar=False)\n",
        "\n",
        "plt.xlabel('Actual')\n",
        "ax.set_xticklabels(class_names, rotation=45)\n",
        "\n",
        "plt.ylabel('Predicted')\n",
        "ax.set_yticklabels(class_names, rotation=0)\n",
        "\n",
        "plt.title('Confusion Matrix')\n",
        "\n",
        "plt.show()"
      ],
      "execution_count": 16,
      "outputs": [
        {
          "output_type": "display_data",
          "data": {
            "image/png": "[encoded data removed]",
            "text/plain": [
              "<Figure size 432x288 with 1 Axes>"
            ]
          },
          "metadata": {
            "tags": [],
            "needs_background": "light"
          }
        }
      ]
    },
    {
      "cell_type": "code",
      "metadata": {
        "id": "LIFIpdvHUGUr",
        "colab_type": "code",
        "colab": {
          "base_uri": "https://localhost:8080/",
          "height": 101
        },
        "outputId": "5c02be35-a58d-48b2-ffa1-e5646b70e73c"
      },
      "source": [
        "# Misclassified example\n",
        "misclassified_idx = np.where(y_pred != y_test)[0]\n",
        "idx = np.random.choice(misclassified_idx)\n",
        "\n",
        "print(\"Actual: {}\".format(class_names[y_test[idx]]))\n",
        "print(\"Predicted: {}\".format(class_names[y_pred[idx]]))\n",
        "print(\"\\n\")\n",
        "print(df_test.iloc[idx])"
      ],
      "execution_count": 17,
      "outputs": [
        {
          "output_type": "stream",
          "text": [
            "Actual: ham\n",
            "Predicted: spam\n",
            "\n",
            "\n",
            "Will purchase d stuff today and mail to you. Do you have a po box number?\n"
          ],
          "name": "stdout"
        }
      ]
    }
  ]
}