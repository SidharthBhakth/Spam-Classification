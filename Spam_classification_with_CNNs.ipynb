{
  "nbformat": 4,
  "nbformat_minor": 0,
  "metadata": {
    "colab": {
      "name": "Spam classification with CNNs.ipynb",
      "provenance": [],
      "collapsed_sections": [],
      "authorship_tag": "ABX9TyMUX7TDQlr6RLcIFECmNOma",
      "include_colab_link": true
    },
    "kernelspec": {
      "name": "python3",
      "display_name": "Python 3"
    },
    "accelerator": "GPU"
  },
  "cells": [
    {
      "cell_type": "markdown",
      "metadata": {
        "id": "view-in-github",
        "colab_type": "text"
      },
      "source": [
        "<a href=\"https://colab.research.google.com/github/SidharthBhakth/Spam-Classification/blob/master/Spam_classification_with_CNNs.ipynb\" target=\"_parent\"><img src=\"https://colab.research.google.com/assets/colab-badge.svg\" alt=\"Open In Colab\"/></a>"
      ]
    },
    {
      "cell_type": "markdown",
      "metadata": {
        "id": "3kBS19QKxoze",
        "colab_type": "text"
      },
      "source": [
        "# Spam classification with CNNs"
      ]
    },
    {
      "cell_type": "code",
      "metadata": {
        "id": "MrruNxA2vEGO",
        "colab_type": "code",
        "colab": {}
      },
      "source": [
        "import numpy as np\n",
        "\n",
        "import pandas as pd\n",
        "\n",
        "import matplotlib.pyplot as plt\n",
        "import seaborn as sns\n",
        "\n",
        "from sklearn.model_selection import train_test_split\n",
        "from sklearn.metrics import confusion_matrix\n",
        "\n",
        "from tensorflow.keras.preprocessing.text import Tokenizer\n",
        "from tensorflow.keras.preprocessing.sequence import pad_sequences\n",
        "from tensorflow.keras.layers import Input, Embedding, Conv1D, MaxPooling1D, GlobalMaxPooling1D, Dense\n",
        "from tensorflow.keras.models import Model"
      ],
      "execution_count": 0,
      "outputs": []
    },
    {
      "cell_type": "code",
      "metadata": {
        "id": "-eD1V6_mD5wk",
        "colab_type": "code",
        "colab": {
          "base_uri": "https://localhost:8080/",
          "height": 202
        },
        "outputId": "c762d7cb-ccf0-4310-f6c0-b4b940f1aa34"
      },
      "source": [
        "# Get data from github\n",
        "!wget -nc https://raw.githubusercontent.com/SidharthBhakth/Spam-Classification/master/spam.csv"
      ],
      "execution_count": 2,
      "outputs": [
        {
          "output_type": "stream",
          "text": [
            "--2020-05-21 04:12:43--  https://raw.githubusercontent.com/SidharthBhakth/Spam-Classification/master/spam.csv\n",
            "Resolving raw.githubusercontent.com (raw.githubusercontent.com)... 151.101.0.133, 151.101.64.133, 151.101.128.133, ...\n",
            "Connecting to raw.githubusercontent.com (raw.githubusercontent.com)|151.101.0.133|:443... connected.\n",
            "HTTP request sent, awaiting response... 200 OK\n",
            "Length: 503663 (492K) [text/plain]\n",
            "Saving to: ‘spam.csv’\n",
            "\n",
            "\rspam.csv              0%[                    ]       0  --.-KB/s               \rspam.csv            100%[===================>] 491.86K  --.-KB/s    in 0.04s   \n",
            "\n",
            "2020-05-21 04:12:44 (13.3 MB/s) - ‘spam.csv’ saved [503663/503663]\n",
            "\n"
          ],
          "name": "stdout"
        }
      ]
    },
    {
      "cell_type": "code",
      "metadata": {
        "id": "LYof_CWDEBX3",
        "colab_type": "code",
        "colab": {
          "base_uri": "https://localhost:8080/",
          "height": 195
        },
        "outputId": "c33bc9c4-02c8-4272-e11f-da8e22bd1429"
      },
      "source": [
        "# Load data as pandas dataframe\n",
        "df = pd.read_csv('spam.csv', encoding = \"CP437\")\n",
        "\n",
        "df.head()"
      ],
      "execution_count": 3,
      "outputs": [
        {
          "output_type": "execute_result",
          "data": {
            "text/html": [
              "<div>\n",
              "<style scoped>\n",
              "    .dataframe tbody tr th:only-of-type {\n",
              "        vertical-align: middle;\n",
              "    }\n",
              "\n",
              "    .dataframe tbody tr th {\n",
              "        vertical-align: top;\n",
              "    }\n",
              "\n",
              "    .dataframe thead th {\n",
              "        text-align: right;\n",
              "    }\n",
              "</style>\n",
              "<table border=\"1\" class=\"dataframe\">\n",
              "  <thead>\n",
              "    <tr style=\"text-align: right;\">\n",
              "      <th></th>\n",
              "      <th>v1</th>\n",
              "      <th>v2</th>\n",
              "      <th>Unnamed: 2</th>\n",
              "      <th>Unnamed: 3</th>\n",
              "      <th>Unnamed: 4</th>\n",
              "    </tr>\n",
              "  </thead>\n",
              "  <tbody>\n",
              "    <tr>\n",
              "      <th>0</th>\n",
              "      <td>ham</td>\n",
              "      <td>Go until jurong point, crazy.. Available only ...</td>\n",
              "      <td>NaN</td>\n",
              "      <td>NaN</td>\n",
              "      <td>NaN</td>\n",
              "    </tr>\n",
              "    <tr>\n",
              "      <th>1</th>\n",
              "      <td>ham</td>\n",
              "      <td>Ok lar... Joking wif u oni...</td>\n",
              "      <td>NaN</td>\n",
              "      <td>NaN</td>\n",
              "      <td>NaN</td>\n",
              "    </tr>\n",
              "    <tr>\n",
              "      <th>2</th>\n",
              "      <td>spam</td>\n",
              "      <td>Free entry in 2 a wkly comp to win FA Cup fina...</td>\n",
              "      <td>NaN</td>\n",
              "      <td>NaN</td>\n",
              "      <td>NaN</td>\n",
              "    </tr>\n",
              "    <tr>\n",
              "      <th>3</th>\n",
              "      <td>ham</td>\n",
              "      <td>U dun say so early hor... U c already then say...</td>\n",
              "      <td>NaN</td>\n",
              "      <td>NaN</td>\n",
              "      <td>NaN</td>\n",
              "    </tr>\n",
              "    <tr>\n",
              "      <th>4</th>\n",
              "      <td>ham</td>\n",
              "      <td>Nah I don't think he goes to usf, he lives aro...</td>\n",
              "      <td>NaN</td>\n",
              "      <td>NaN</td>\n",
              "      <td>NaN</td>\n",
              "    </tr>\n",
              "  </tbody>\n",
              "</table>\n",
              "</div>"
            ],
            "text/plain": [
              "     v1  ... Unnamed: 4\n",
              "0   ham  ...        NaN\n",
              "1   ham  ...        NaN\n",
              "2  spam  ...        NaN\n",
              "3   ham  ...        NaN\n",
              "4   ham  ...        NaN\n",
              "\n",
              "[5 rows x 5 columns]"
            ]
          },
          "metadata": {
            "tags": []
          },
          "execution_count": 3
        }
      ]
    },
    {
      "cell_type": "code",
      "metadata": {
        "id": "WOz_5-ahEFiS",
        "colab_type": "code",
        "colab": {
          "base_uri": "https://localhost:8080/",
          "height": 195
        },
        "outputId": "1ec7cc05-fb04-4995-b24f-0f143c1b4a28"
      },
      "source": [
        "# Drop unnecessary columns\n",
        "df = df.drop(['Unnamed: 2', 'Unnamed: 3', 'Unnamed: 4'], axis=1)\n",
        "\n",
        "# Rename columns\n",
        "df.columns = ['labels', 'data']\n",
        "\n",
        "df.head()"
      ],
      "execution_count": 4,
      "outputs": [
        {
          "output_type": "execute_result",
          "data": {
            "text/html": [
              "<div>\n",
              "<style scoped>\n",
              "    .dataframe tbody tr th:only-of-type {\n",
              "        vertical-align: middle;\n",
              "    }\n",
              "\n",
              "    .dataframe tbody tr th {\n",
              "        vertical-align: top;\n",
              "    }\n",
              "\n",
              "    .dataframe thead th {\n",
              "        text-align: right;\n",
              "    }\n",
              "</style>\n",
              "<table border=\"1\" class=\"dataframe\">\n",
              "  <thead>\n",
              "    <tr style=\"text-align: right;\">\n",
              "      <th></th>\n",
              "      <th>labels</th>\n",
              "      <th>data</th>\n",
              "    </tr>\n",
              "  </thead>\n",
              "  <tbody>\n",
              "    <tr>\n",
              "      <th>0</th>\n",
              "      <td>ham</td>\n",
              "      <td>Go until jurong point, crazy.. Available only ...</td>\n",
              "    </tr>\n",
              "    <tr>\n",
              "      <th>1</th>\n",
              "      <td>ham</td>\n",
              "      <td>Ok lar... Joking wif u oni...</td>\n",
              "    </tr>\n",
              "    <tr>\n",
              "      <th>2</th>\n",
              "      <td>spam</td>\n",
              "      <td>Free entry in 2 a wkly comp to win FA Cup fina...</td>\n",
              "    </tr>\n",
              "    <tr>\n",
              "      <th>3</th>\n",
              "      <td>ham</td>\n",
              "      <td>U dun say so early hor... U c already then say...</td>\n",
              "    </tr>\n",
              "    <tr>\n",
              "      <th>4</th>\n",
              "      <td>ham</td>\n",
              "      <td>Nah I don't think he goes to usf, he lives aro...</td>\n",
              "    </tr>\n",
              "  </tbody>\n",
              "</table>\n",
              "</div>"
            ],
            "text/plain": [
              "  labels                                               data\n",
              "0    ham  Go until jurong point, crazy.. Available only ...\n",
              "1    ham                      Ok lar... Joking wif u oni...\n",
              "2   spam  Free entry in 2 a wkly comp to win FA Cup fina...\n",
              "3    ham  U dun say so early hor... U c already then say...\n",
              "4    ham  Nah I don't think he goes to usf, he lives aro..."
            ]
          },
          "metadata": {
            "tags": []
          },
          "execution_count": 4
        }
      ]
    },
    {
      "cell_type": "code",
      "metadata": {
        "id": "WQ5ciwXqELCh",
        "colab_type": "code",
        "colab": {}
      },
      "source": [
        "# Create binary labels\n",
        "df['b_labels'] = df['labels'].map({'ham':0, 'spam':1})\n",
        "\n",
        "y = df['b_labels'].values"
      ],
      "execution_count": 0,
      "outputs": []
    },
    {
      "cell_type": "code",
      "metadata": {
        "id": "W9LE8G0FQqMI",
        "colab_type": "code",
        "colab": {}
      },
      "source": [
        "class_names = ['ham', 'spam']"
      ],
      "execution_count": 0,
      "outputs": []
    },
    {
      "cell_type": "code",
      "metadata": {
        "id": "cs5xnCSdEQi8",
        "colab_type": "code",
        "colab": {}
      },
      "source": [
        "# Split the data to train and test datasets\n",
        "df_train, df_test, y_train, y_test = train_test_split(df['data'], y, test_size=0.3)"
      ],
      "execution_count": 0,
      "outputs": []
    },
    {
      "cell_type": "code",
      "metadata": {
        "id": "V6KnLgKiERYw",
        "colab_type": "code",
        "colab": {}
      },
      "source": [
        "# Convert sentences to sequences\n",
        "MAX_VOCAB_SIZE = 20000\n",
        "\n",
        "# Tokenize\n",
        "tokenizer = Tokenizer(num_words=MAX_VOCAB_SIZE)\n",
        "tokenizer.fit_on_texts(df_train)\n",
        "\n",
        "sequences_train = tokenizer.texts_to_sequences(df_train)\n",
        "sequences_test = tokenizer.texts_to_sequences(df_test)"
      ],
      "execution_count": 0,
      "outputs": []
    },
    {
      "cell_type": "code",
      "metadata": {
        "id": "aBFZIYoNG-gz",
        "colab_type": "code",
        "colab": {
          "base_uri": "https://localhost:8080/",
          "height": 34
        },
        "outputId": "e24216ba-99b4-4eb4-8a89-64bcd8e08c46"
      },
      "source": [
        "# Get word to index mapping\n",
        "word2idx = tokenizer.word_index\n",
        "\n",
        "# Size of vocabulary\n",
        "V = max(word2idx.values())\n",
        "\n",
        "print('Unique tokens: {}'.format(V))"
      ],
      "execution_count": 9,
      "outputs": [
        {
          "output_type": "stream",
          "text": [
            "Unique tokens: 7403\n"
          ],
          "name": "stdout"
        }
      ]
    },
    {
      "cell_type": "code",
      "metadata": {
        "id": "czgGqLALHqBc",
        "colab_type": "code",
        "colab": {
          "base_uri": "https://localhost:8080/",
          "height": 50
        },
        "outputId": "93bb2e3a-d4be-4b69-ce23-9a4b59084989"
      },
      "source": [
        "# Pad sequences\n",
        "X_train = pad_sequences(sequences_train) # N x T matrix\n",
        "print('Shape of train data tensor: {}'.format(X_train.shape))\n",
        "\n",
        "# Get sequence length\n",
        "T = X_train.shape[1]\n",
        "\n",
        "X_test = pad_sequences(sequences_test, maxlen=T)\n",
        "print('Shape of test data tensor: {}'.format(X_test.shape))"
      ],
      "execution_count": 10,
      "outputs": [
        {
          "output_type": "stream",
          "text": [
            "Shape of train data tensor: (3900, 189)\n",
            "Shape of test data tensor: (1672, 189)\n"
          ],
          "name": "stdout"
        }
      ]
    },
    {
      "cell_type": "code",
      "metadata": {
        "id": "3slzZXaaJBzb",
        "colab_type": "code",
        "colab": {
          "base_uri": "https://localhost:8080/",
          "height": 353
        },
        "outputId": "d0aa7d55-ada7-4e7b-c68d-47268314d85d"
      },
      "source": [
        "# Build the model\n",
        "\n",
        "# Embedding dimensionality\n",
        "D = 20\n",
        "\n",
        "\"\"\"\n",
        "The size of the embedding layer is (V+1) x D since the first index starts from 1 and not 0\n",
        "Thus, the final index of the embedding matrix is V, so we have the size V+1\n",
        "\"\"\"\n",
        "\n",
        "i = Input(shape=(T,))\n",
        "x = Embedding(V+1, D)(i)\n",
        "x = Conv1D(filters=32, kernel_size=3, activation='relu')(x)\n",
        "x = MaxPooling1D(pool_size=3)(x)\n",
        "x = Conv1D(filters=64, kernel_size=3, activation='relu')(x)\n",
        "x = MaxPooling1D(pool_size=3)(x)\n",
        "x = Conv1D(filters=128, kernel_size=3, activation='relu')(x)\n",
        "x = GlobalMaxPooling1D()(x)\n",
        "x = Dense(1, activation='sigmoid')(x)\n",
        "\n",
        "model = Model(i, x)\n",
        "\n",
        "#  Compile\n",
        "model.compile(loss='binary_crossentropy',\n",
        "              optimizer='adam',\n",
        "              metrics=['accuracy'])\n",
        "\n",
        "# Fit\n",
        "r = model.fit(X_train, y_train, validation_data=(X_test, y_test), epochs=10, verbose=2)"
      ],
      "execution_count": 11,
      "outputs": [
        {
          "output_type": "stream",
          "text": [
            "Epoch 1/10\n",
            "122/122 - 2s - loss: 0.3854 - accuracy: 0.8618 - val_loss: 0.2808 - val_accuracy: 0.8594\n",
            "Epoch 2/10\n",
            "122/122 - 1s - loss: 0.1313 - accuracy: 0.9423 - val_loss: 0.0581 - val_accuracy: 0.9803\n",
            "Epoch 3/10\n",
            "122/122 - 1s - loss: 0.0155 - accuracy: 0.9951 - val_loss: 0.0495 - val_accuracy: 0.9850\n",
            "Epoch 4/10\n",
            "122/122 - 1s - loss: 0.0046 - accuracy: 0.9990 - val_loss: 0.0666 - val_accuracy: 0.9850\n",
            "Epoch 5/10\n",
            "122/122 - 1s - loss: 0.0027 - accuracy: 0.9995 - val_loss: 0.0678 - val_accuracy: 0.9862\n",
            "Epoch 6/10\n",
            "122/122 - 1s - loss: 0.0019 - accuracy: 0.9997 - val_loss: 0.0806 - val_accuracy: 0.9844\n",
            "Epoch 7/10\n",
            "122/122 - 1s - loss: 0.0018 - accuracy: 0.9995 - val_loss: 0.0807 - val_accuracy: 0.9850\n",
            "Epoch 8/10\n",
            "122/122 - 1s - loss: 0.0012 - accuracy: 0.9995 - val_loss: 0.0763 - val_accuracy: 0.9850\n",
            "Epoch 9/10\n",
            "122/122 - 1s - loss: 0.0011 - accuracy: 0.9997 - val_loss: 0.0887 - val_accuracy: 0.9839\n",
            "Epoch 10/10\n",
            "122/122 - 1s - loss: 6.1912e-04 - accuracy: 0.9997 - val_loss: 0.0848 - val_accuracy: 0.9868\n"
          ],
          "name": "stdout"
        }
      ]
    },
    {
      "cell_type": "code",
      "metadata": {
        "id": "lCnq-eJANYf0",
        "colab_type": "code",
        "colab": {
          "base_uri": "https://localhost:8080/",
          "height": 267
        },
        "outputId": "87aaae58-8da6-432b-af75-1744ee0b09ad"
      },
      "source": [
        "# Plot loss per epoch\n",
        "plt.plot(r.history['loss'], label='loss')\n",
        "plt.plot(r.history['val_loss'], label='val_loss')\n",
        "plt.legend()\n",
        "plt.show()"
      ],
      "execution_count": 12,
      "outputs": [
        {
          "output_type": "display_data",
          "data": {
            "image/png": "[encoded data removed]",
            "text/plain": [
              "<Figure size 432x288 with 1 Axes>"
            ]
          },
          "metadata": {
            "tags": [],
            "needs_background": "light"
          }
        }
      ]
    },
    {
      "cell_type": "code",
      "metadata": {
        "id": "l_f8u73pNcaE",
        "colab_type": "code",
        "colab": {
          "base_uri": "https://localhost:8080/",
          "height": 265
        },
        "outputId": "fc4db4bb-de34-44a0-bdc0-eb4b955013ce"
      },
      "source": [
        "# Plot accuracy per epcch\n",
        "plt.plot(r.history['accuracy'], label='acc')\n",
        "plt.plot(r.history['val_accuracy'], label='val_acc')\n",
        "plt.legend()\n",
        "plt.show()"
      ],
      "execution_count": 13,
      "outputs": [
        {
          "output_type": "display_data",
          "data": {
            "image/png": "[encoded data removed]",
            "text/plain": [
              "<Figure size 432x288 with 1 Axes>"
            ]
          },
          "metadata": {
            "tags": [],
            "needs_background": "light"
          }
        }
      ]
    },
    {
      "cell_type": "code",
      "metadata": {
        "id": "JgEALjhJNn03",
        "colab_type": "code",
        "colab": {}
      },
      "source": [
        "# Predict\n",
        "y_pred = model.predict(X_test).flatten()\n",
        "y_pred = (y_pred > 0.5).astype(int)"
      ],
      "execution_count": 0,
      "outputs": []
    },
    {
      "cell_type": "code",
      "metadata": {
        "id": "RO8yN9n_bbyt",
        "colab_type": "code",
        "colab": {
          "base_uri": "https://localhost:8080/",
          "height": 34
        },
        "outputId": "e032f322-dfbf-40b2-e278-45a0c9e2a6af"
      },
      "source": [
        "np.sum(y_pred)"
      ],
      "execution_count": 15,
      "outputs": [
        {
          "output_type": "execute_result",
          "data": {
            "text/plain": [
              "227"
            ]
          },
          "metadata": {
            "tags": []
          },
          "execution_count": 15
        }
      ]
    },
    {
      "cell_type": "code",
      "metadata": {
        "id": "-gK_pLosN5Z-",
        "colab_type": "code",
        "colab": {
          "base_uri": "https://localhost:8080/",
          "height": 312
        },
        "outputId": "ae17f405-233c-41d1-b11d-1196101f1e85"
      },
      "source": [
        "# Plot annotated confusion matrix\n",
        "cnf_mat = confusion_matrix(y_test, y_pred)\n",
        "\n",
        "fig, ax = plt.subplots()\n",
        "\n",
        "fig = sns.heatmap(cnf_mat.T, square=True, annot=True, fmt='d', cmap='binary', cbar=False)\n",
        "\n",
        "plt.xlabel('Actual')\n",
        "ax.set_xticklabels(class_names, rotation=45)\n",
        "\n",
        "plt.ylabel('Predicted')\n",
        "ax.set_yticklabels(class_names, rotation=0)\n",
        "\n",
        "plt.title('Confusion Matrix')\n",
        "\n",
        "plt.show()"
      ],
      "execution_count": 16,
      "outputs": [
        {
          "output_type": "display_data",
          "data": {
            "image/png": "[encoded data removed]",
            "text/plain": [
              "<Figure size 432x288 with 1 Axes>"
            ]
          },
          "metadata": {
            "tags": [],
            "needs_background": "light"
          }
        }
      ]
    },
    {
      "cell_type": "code",
      "metadata": {
        "id": "JM7oI-OiPvcB",
        "colab_type": "code",
        "colab": {
          "base_uri": "https://localhost:8080/",
          "height": 101
        },
        "outputId": "e935b941-d83b-45c3-f64b-be982df94e28"
      },
      "source": [
        "# Misclassified example\n",
        "misclassified_idx = np.where(y_pred != y_test)[0]\n",
        "idx = np.random.choice(misclassified_idx)\n",
        "\n",
        "print(\"Actual: {}\".format(class_names[y_test[idx]]))\n",
        "print(\"Predicted: {}\".format(class_names[y_pred[idx]]))\n",
        "print(\"\\n\")\n",
        "print(df_test.iloc[idx])"
      ],
      "execution_count": 17,
      "outputs": [
        {
          "output_type": "stream",
          "text": [
            "Actual: ham\n",
            "Predicted: spam\n",
            "\n",
            "\n",
            "Total video converter free download type this in google search:)\n"
          ],
          "name": "stdout"
        }
      ]
    }
  ]
}